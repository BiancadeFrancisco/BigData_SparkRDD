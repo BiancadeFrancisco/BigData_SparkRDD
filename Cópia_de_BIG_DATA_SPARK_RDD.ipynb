{
  "nbformat": 4,
  "nbformat_minor": 0,
  "metadata": {
    "colab": {
      "provenance": [],
      "authorship_tag": "ABX9TyO77EKKQkFrkO/LvrTxiA6d",
      "include_colab_link": true
    },
    "kernelspec": {
      "name": "python3",
      "display_name": "Python 3"
    },
    "language_info": {
      "name": "python"
    }
  },
  "cells": [
    {
      "cell_type": "markdown",
      "metadata": {
        "id": "view-in-github",
        "colab_type": "text"
      },
      "source": [
        "<a href=\"https://colab.research.google.com/github/BiancadeFrancisco/BigData_SparkRDD/blob/main/C%C3%B3pia_de_BIG_DATA_SPARK_RDD.ipynb\" target=\"_parent\"><img src=\"https://colab.research.google.com/assets/colab-badge.svg\" alt=\"Open In Colab\"/></a>"
      ]
    },
    {
      "cell_type": "code",
      "execution_count": null,
      "metadata": {
        "id": "iAQ5FXFuFYiY",
        "colab": {
          "base_uri": "https://localhost:8080/"
        },
        "outputId": "ef1e8431-ebc5-4e80-eb27-609bef28f6a3"
      },
      "outputs": [
        {
          "output_type": "stream",
          "name": "stdout",
          "text": [
            "Collecting pyspark\n",
            "  Downloading pyspark-3.4.1.tar.gz (310.8 MB)\n",
            "\u001b[2K     \u001b[90m━━━━━━━━━━━━━━━━━━━━━━━━━━━━━━━━━━━━━━━\u001b[0m \u001b[32m310.8/310.8 MB\u001b[0m \u001b[31m2.7 MB/s\u001b[0m eta \u001b[36m0:00:00\u001b[0m\n",
            "\u001b[?25h  Preparing metadata (setup.py) ... \u001b[?25l\u001b[?25hdone\n",
            "Requirement already satisfied: py4j==0.10.9.7 in /usr/local/lib/python3.10/dist-packages (from pyspark) (0.10.9.7)\n",
            "Building wheels for collected packages: pyspark\n",
            "  Building wheel for pyspark (setup.py) ... \u001b[?25l\u001b[?25hdone\n",
            "  Created wheel for pyspark: filename=pyspark-3.4.1-py2.py3-none-any.whl size=311285388 sha256=28f2f948fe6946d9cffc4313eafcf669c6593e9430a5d4a3c39ea8ce83c14f06\n",
            "  Stored in directory: /root/.cache/pip/wheels/0d/77/a3/ff2f74cc9ab41f8f594dabf0579c2a7c6de920d584206e0834\n",
            "Successfully built pyspark\n",
            "Installing collected packages: pyspark\n",
            "Successfully installed pyspark-3.4.1\n"
          ]
        }
      ],
      "source": [
        "# INSTALAR O SPARK\n",
        "\n",
        "!pip install pyspark"
      ]
    },
    {
      "cell_type": "code",
      "source": [
        "from pyspark import SparkContext\n"
      ],
      "metadata": {
        "id": "Om6aWbrGFu0X"
      },
      "execution_count": null,
      "outputs": []
    },
    {
      "cell_type": "code",
      "source": [
        "sc = SparkContext(\"local\", \"RDD Exemplo\")\n",
        "\n",
        "# RDD =  coleção de dados que funciona de forma distribuida no cluster"
      ],
      "metadata": {
        "id": "NrYF7xHFFvac"
      },
      "execution_count": null,
      "outputs": []
    },
    {
      "cell_type": "code",
      "source": [
        "rdd_texto = sc.textFile('./rdd_dataset.txt')"
      ],
      "metadata": {
        "id": "noMcqssnFxjF"
      },
      "execution_count": null,
      "outputs": []
    },
    {
      "cell_type": "code",
      "source": [
        "rdd_texto.collect()"
      ],
      "metadata": {
        "colab": {
          "base_uri": "https://localhost:8080/"
        },
        "id": "cTOQBzjBFzOc",
        "outputId": "23d5dc93-d101-440e-e684-244a5fb7caba"
      },
      "execution_count": null,
      "outputs": [
        {
          "output_type": "execute_result",
          "data": {
            "text/plain": [
              "['Cenoura',\n",
              " 'Otimista',\n",
              " 'Solitário',\n",
              " 'Imperfeição',\n",
              " 'Descoberta',\n",
              " 'Fantasia',\n",
              " 'DNC',\n",
              " 'Maravilhoso',\n",
              " 'Criatividade',\n",
              " 'Compreensão',\n",
              " 'Atraente',\n",
              " 'Festa',\n",
              " 'Intenção',\n",
              " 'Encontro',\n",
              " 'Destino',\n",
              " 'Sucesso',\n",
              " 'Conquistar',\n",
              " 'Simplicidade',\n",
              " 'Paz',\n",
              " 'Existência',\n",
              " 'Poderoso',\n",
              " 'DNC',\n",
              " 'Conseguir',\n",
              " 'Forte',\n",
              " 'Alegria',\n",
              " 'Espírito',\n",
              " 'Mudança',\n",
              " 'Coragem',\n",
              " 'Determinação',\n",
              " 'DNC']"
            ]
          },
          "metadata": {},
          "execution_count": 8
        }
      ]
    },
    {
      "cell_type": "code",
      "source": [
        "rdd_filtrado = rdd_texto.filter(lambda linha: \"DNC\" in linha) #lambda = passar um lopping dentro da expressão que estou escrevendo"
      ],
      "metadata": {
        "id": "ngcuBa5uF0uF"
      },
      "execution_count": null,
      "outputs": []
    },
    {
      "cell_type": "code",
      "source": [
        "rdd_filtrado.collect() #collect() = como se fosse o printar do python"
      ],
      "metadata": {
        "colab": {
          "base_uri": "https://localhost:8080/"
        },
        "id": "6fYg652yF2t4",
        "outputId": "52268e0a-d713-4954-aacf-eaf08602797f"
      },
      "execution_count": null,
      "outputs": [
        {
          "output_type": "execute_result",
          "data": {
            "text/plain": [
              "['DNC', 'DNC', 'DNC']"
            ]
          },
          "metadata": {},
          "execution_count": 10
        }
      ]
    },
    {
      "cell_type": "code",
      "source": [
        "rdd_filtrado.count()"
      ],
      "metadata": {
        "colab": {
          "base_uri": "https://localhost:8080/"
        },
        "id": "oO6_Yl2FF4-G",
        "outputId": "edd64d72-1345-465b-9295-afaac25c7ad4"
      },
      "execution_count": null,
      "outputs": [
        {
          "output_type": "execute_result",
          "data": {
            "text/plain": [
              "3"
            ]
          },
          "metadata": {},
          "execution_count": 11
        }
      ]
    }
  ]
}